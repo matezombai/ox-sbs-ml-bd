{
 "cells": [
  {
   "cell_type": "markdown",
   "metadata": {
    "slideshow": {
     "slide_type": "slide"
    }
   },
   "source": [
    "# Advances in Machine Learning with Big Data\n",
    "\n",
    "### Jeremy Large\n",
    "#### jeremy.large@economics.ox.ac.uk\n",
    "\n",
    "\n",
    "&#169; Jeremy Large ; shared under [CC BY-NC-ND 4.0](https://creativecommons.org/licenses/by-nc-nd/4.0/)"
   ]
  },
  {
   "cell_type": "markdown",
   "metadata": {
    "slideshow": {
     "slide_type": "slide"
    }
   },
   "source": [
    "## 3. Overfit and regularization"
   ]
  },
  {
   "cell_type": "markdown",
   "metadata": {
    "slideshow": {
     "slide_type": "slide"
    }
   },
   "source": [
    "## Contents Weeks 1-4:\n",
    "\n",
    "1. Introducing this course's dataset\n",
    "\n",
    "1. Being an econometrician _and_ a data scientist\n",
    "\n",
    "1. **Overfit and regularization**\n",
    "\n",
    "1. Regularization through predictor/feature selection (Lasso etc.)\n",
    "\n",
    "1. Resampling methods, and model selection\n",
    "\n",
    "1. Decision trees, bagging, and random forests\n",
    "\n",
    "1. Single-layer neural networks"
   ]
  },
  {
   "cell_type": "code",
   "execution_count": 1,
   "metadata": {
    "slideshow": {
     "slide_type": "skip"
    }
   },
   "outputs": [
    {
     "name": "stdout",
     "output_type": "stream",
     "text": [
      "Populating the interactive namespace from numpy and matplotlib\n"
     ]
    }
   ],
   "source": [
    "%load_ext autoreload\n",
    "%autoreload 2\n",
    "%pylab inline\n",
    "plt.rcParams['figure.figsize'] = [12, 4]\n",
    "\n",
    "import sys, os\n",
    "\n",
    "import logging\n",
    "logging.basicConfig(format='%(asctime)s %(levelname)s:%(message)s', level=logging.INFO)\n",
    "\n",
    "import warnings\n",
    "warnings.filterwarnings('ignore')\n",
    "\n",
    "# point at library; I need some lessons on doing good PYTHONPATHs:\n",
    "REPO_DIR = os.path.dirname(os.getcwd())\n",
    "UCI_LIB = os.path.join(REPO_DIR, 'lib')\n",
    "sys.path.append(UCI_LIB)"
   ]
  },
  {
   "cell_type": "code",
   "execution_count": 2,
   "metadata": {
    "slideshow": {
     "slide_type": "skip"
    }
   },
   "outputs": [],
   "source": [
    "import numpy as np  \n",
    "import pandas as pd  "
   ]
  },
  {
   "cell_type": "code",
   "execution_count": 3,
   "metadata": {
    "slideshow": {
     "slide_type": "skip"
    }
   },
   "outputs": [],
   "source": [
    "#  pull in scikit-learn libraries:\n",
    "from sklearn import linear_model\n",
    "from sklearn import metrics\n",
    "from sklearn.model_selection import KFold"
   ]
  },
  {
   "cell_type": "code",
   "execution_count": 4,
   "metadata": {},
   "outputs": [],
   "source": [
    "import sbs_sklearn    # module where I've put some functions from the last class\n",
    "from uci_retail_data import uci_files, stock_codes"
   ]
  },
  {
   "cell_type": "code",
   "execution_count": 5,
   "metadata": {},
   "outputs": [],
   "source": [
    "import itertools      # today, we'll use this"
   ]
  },
  {
   "cell_type": "markdown",
   "metadata": {
    "slideshow": {
     "slide_type": "slide"
    }
   },
   "source": [
    "### We return to our\n",
    "\n",
    "### > dataset\n",
    "\n",
    "### > prediction problem\n",
    "\n",
    "### > & linear model"
   ]
  },
  {
   "cell_type": "markdown",
   "metadata": {},
   "source": [
    "**Q.: given the time, date, and complexity of an invoice, what's its expected spend per item shipped?**"
   ]
  },
  {
   "cell_type": "code",
   "execution_count": 6,
   "metadata": {
    "slideshow": {
     "slide_type": "subslide"
    }
   },
   "outputs": [
    {
     "name": "stderr",
     "output_type": "stream",
     "text": [
      "2021-05-04 15:26:33,554 INFO:Loading C:\\Users\\zomma\\Documents\\GitHub\\ox-sbs-ml-bd\\data\\raw.csv , sheet Year 2009-2010\n",
      "2021-05-04 15:26:59,941 INFO:Loaded C:\\Users\\zomma\\Documents\\GitHub\\ox-sbs-ml-bd\\data\\raw.csv , sheet number one, obviously\n"
     ]
    }
   ],
   "source": [
    "df = uci_files.standard_uci_data_access()"
   ]
  },
  {
   "cell_type": "code",
   "execution_count": 7,
   "metadata": {},
   "outputs": [],
   "source": [
    "invalids = stock_codes.invalid_series(df)"
   ]
  },
  {
   "cell_type": "code",
   "execution_count": 8,
   "metadata": {},
   "outputs": [
    {
     "name": "stderr",
     "output_type": "stream",
     "text": [
      "2021-05-04 15:27:03,499 INFO:NumExpr defaulting to 8 threads.\n"
     ]
    }
   ],
   "source": [
    "invoices = stock_codes.invoice_df(df, invalid_series=invalids)"
   ]
  },
  {
   "cell_type": "code",
   "execution_count": 9,
   "metadata": {
    "slideshow": {
     "slide_type": "fragment"
    }
   },
   "outputs": [],
   "source": [
    "#  We build some additional columns in our dataframe to take logs etc.:\n",
    "invoices['log_item_spend'] = np.log(invoices.invoice_spend / invoices.items_in_invoice)\n",
    "invoices['log_n_codes'] = np.log(invoices.codes_in_invoice)"
   ]
  },
  {
   "cell_type": "code",
   "execution_count": 10,
   "metadata": {},
   "outputs": [],
   "source": [
    "predictors = ['log_n_codes', 'hour', 'month', 'words_per_item']"
   ]
  },
  {
   "cell_type": "code",
   "execution_count": 11,
   "metadata": {
    "slideshow": {
     "slide_type": "fragment"
    }
   },
   "outputs": [],
   "source": [
    "# set out `y` and `X` variables:\n",
    "y = invoices.log_item_spend\n",
    "X = invoices[predictors] \n",
    "\n",
    "# we'll do 50-fold studies this time:\n",
    "n_folds = 50"
   ]
  },
  {
   "cell_type": "code",
   "execution_count": 12,
   "metadata": {},
   "outputs": [],
   "source": [
    "model = linear_model.LinearRegression()"
   ]
  },
  {
   "cell_type": "markdown",
   "metadata": {
    "slideshow": {
     "slide_type": "subslide"
    }
   },
   "source": [
    "The linear model fits OK with 50-fold testing\n",
    "\n",
    "[Link to `train_n_test`](https://github.com/jeremy-large/ox-sbs-ml-bd/blob/master/lib/sbs_sklearn.py#L21)"
   ]
  },
  {
   "cell_type": "code",
   "execution_count": 13,
   "metadata": {},
   "outputs": [
    {
     "name": "stderr",
     "output_type": "stream",
     "text": [
      "2021-05-04 15:29:05,041 INFO:In study 1/50, train on 20165 randomly selected points; then test on the other 412: first few test points = [ 49  53  84 135 165] \n"
     ]
    },
    {
     "data": {
      "image/png": "[encoded data removed]",
      "text/plain": [
       "<Figure size 864x288 with 1 Axes>"
      ]
     },
     "metadata": {
      "needs_background": "light"
     },
     "output_type": "display_data"
    }
   ],
   "source": [
    "scores = sbs_sklearn.train_n_test(X, y, n_folds, concise=False, metric=metrics.mean_absolute_error)\n",
    "sbs_sklearn.plot_kfold_scores(scores)"
   ]
  },
  {
   "cell_type": "markdown",
   "metadata": {
    "slideshow": {
     "slide_type": "subslide"
    }
   },
   "source": [
    "OK, now lets stress-test the linear model:"
   ]
  },
  {
   "cell_type": "code",
   "execution_count": 14,
   "metadata": {},
   "outputs": [
    {
     "name": "stderr",
     "output_type": "stream",
     "text": [
      "2021-05-04 15:29:13,769 INFO:In study 1/50, train on 412 randomly selected points; then test on the other 20165: first few test points = [0 1 2 3 4] \n"
     ]
    },
    {
     "data": {
      "image/png": "[encoded data removed]",
      "text/plain": [
       "<Figure size 864x288 with 1 Axes>"
      ]
     },
     "metadata": {
      "needs_background": "light"
     },
     "output_type": "display_data"
    }
   ],
   "source": [
    "scores = sbs_sklearn.train_n_test(X, y, n_folds, train_on_minority=True, concise=False, metric=metrics.mean_absolute_error)   #<< invoke this new option\n",
    "sbs_sklearn.plot_kfold_scores(scores)"
   ]
  },
  {
   "cell_type": "markdown",
   "metadata": {
    "slideshow": {
     "slide_type": "slide"
    }
   },
   "source": [
    "#### Comments:\n",
    "\n",
    "* our linear model can be fit on a rather small proportion of our dataset\n",
    "\n",
    "     * not perfectly\n",
    "\n",
    "* I would say that in part, this is because it is fairly simple and concise"
   ]
  },
  {
   "cell_type": "markdown",
   "metadata": {
    "slideshow": {
     "slide_type": "fragment"
    }
   },
   "source": [
    "* but this simplicity is tantalising: \n",
    "\n",
    "     * could we replace the model with a more complicated one, to get a better MSE?\n",
    "     "
   ]
  },
  {
   "cell_type": "markdown",
   "metadata": {
    "slideshow": {
     "slide_type": "fragment"
    }
   },
   "source": [
    "* Extensions to Linear model:\n",
    "\n",
    "* *Introduction to Statistical Learning* Chapter 3.3.2"
   ]
  },
  {
   "cell_type": "markdown",
   "metadata": {
    "slideshow": {
     "slide_type": "slide"
    }
   },
   "source": [
    "### Polynomial Regression:"
   ]
  },
  {
   "cell_type": "markdown",
   "metadata": {},
   "source": [
    "**Recall our linear setup**: we have an i.i.d. sequence of observations, $\\{(y_i, x_i), i=0, 1, ...\\}$ where we are interested in moments of the R.V. $y_i$, conditional on the multivariate R.V.  $x_i$ (of length, say, $p$). \n",
    "\n",
    "We *postulate* a linear relationship of the following form:\n",
    "\n",
    "\\begin{equation}\n",
    "y_i = x_i ' \\beta + \\epsilon_i,\n",
    "\\end{equation}\n",
    "\n",
    "where $\\beta$ is a vector of parameters of length $p$, and the i.i.d. sequence of random variables $\\{\\epsilon_i\\}$ is independent of the regressors $\\{x_i\\}$"
   ]
  },
  {
   "cell_type": "markdown",
   "metadata": {
    "slideshow": {
     "slide_type": "fragment"
    }
   },
   "source": [
    "**Perhaps** we are missing interactions or non-linearities. So, lets try augmenting $x_i$ with all possible cross-terms, \n",
    "\n",
    "\\begin{equation}\n",
    "\\{x_i x_j : i= 0, 1 , ...; j = 0, 1, ...; i \\leq j\\},\n",
    "\\end{equation} \n",
    "\n",
    "... and we can go up to third, and higher orders, so $x_i x_j x_k$, or ... etc."
   ]
  },
  {
   "cell_type": "code",
   "execution_count": 15,
   "metadata": {
    "slideshow": {
     "slide_type": "subslide"
    }
   },
   "outputs": [],
   "source": [
    "def build_polynomial_dataframe(data, order):\n",
    "    \"\"\"\n",
    "    @param data: a DataFrame() of features (or regressors)\n",
    "    @param order: a positive integer - the highest order of polynomial terms to be generated\n",
    "    @return: a DataFrame() containing data, as well as polynomial terms of that data, up to order \n",
    "    \n",
    "    This function really just *wraps* itertools.combinations_with_replacement()\n",
    "    \"\"\"\n",
    "    poly_data = data.copy()\n",
    "    for o in range(1, order + 1):\n",
    "        for tpl in itertools.combinations_with_replacement(data.columns, o):\n",
    "            name = \"_x_\".join(tpl)\n",
    "            poly_data[name] = data[list(tpl)].prod(axis=1)\n",
    "    return poly_data"
   ]
  },
  {
   "cell_type": "markdown",
   "metadata": {
    "slideshow": {
     "slide_type": "fragment"
    }
   },
   "source": [
    "What is this `itertools.combinations_with_replacement()`?\n",
    "\n",
    " - Always the same answer:\n",
    " \n",
    " - https://duckduckgo.com/?q=itertools+combinations+with+replacement&ia=web\n",
    " \n",
    "Later, we'll see scikit-learn's package to pre-process $X$ in this and other ways, [scikit-learn.preprocessing](https://scikit-learn.org/stable/modules/preprocessing.html)"
   ]
  },
  {
   "cell_type": "markdown",
   "metadata": {
    "slideshow": {
     "slide_type": "subslide"
    }
   },
   "source": [
    "Now we'll create polynomials of, say, orders up to 4:"
   ]
  },
  {
   "cell_type": "code",
   "execution_count": 17,
   "metadata": {},
   "outputs": [
    {
     "data": {
      "text/plain": [
       "(20577, 69)"
      ]
     },
     "execution_count": 17,
     "metadata": {},
     "output_type": "execute_result"
    }
   ],
   "source": [
    "polynomial_X = build_polynomial_dataframe(invoices[predictors], 4)\n",
    "polynomial_X.shape"
   ]
  },
  {
   "cell_type": "code",
   "execution_count": 18,
   "metadata": {
    "slideshow": {
     "slide_type": "subslide"
    }
   },
   "outputs": [
    {
     "data": {
      "text/html": [
       "<div>\n",
       "<style scoped>\n",
       "    .dataframe tbody tr th:only-of-type {\n",
       "        vertical-align: middle;\n",
       "    }\n",
       "\n",
       "    .dataframe tbody tr th {\n",
       "        vertical-align: top;\n",
       "    }\n",
       "\n",
       "    .dataframe thead th {\n",
       "        text-align: right;\n",
       "    }\n",
       "</style>\n",
       "<table border=\"1\" class=\"dataframe\">\n",
       "  <thead>\n",
       "    <tr style=\"text-align: right;\">\n",
       "      <th>Invoice</th>\n",
       "      <th>489434</th>\n",
       "    </tr>\n",
       "  </thead>\n",
       "  <tbody>\n",
       "    <tr>\n",
       "      <th>log_n_codes</th>\n",
       "      <td>2.079442e+00</td>\n",
       "    </tr>\n",
       "    <tr>\n",
       "      <th>hour</th>\n",
       "      <td>7.000000e+00</td>\n",
       "    </tr>\n",
       "    <tr>\n",
       "      <th>month</th>\n",
       "      <td>2.009120e+05</td>\n",
       "    </tr>\n",
       "    <tr>\n",
       "      <th>words_per_item</th>\n",
       "      <td>3.625000e+00</td>\n",
       "    </tr>\n",
       "    <tr>\n",
       "      <th>log_n_codes_x_log_n_codes</th>\n",
       "      <td>4.324077e+00</td>\n",
       "    </tr>\n",
       "    <tr>\n",
       "      <th>...</th>\n",
       "      <td>...</td>\n",
       "    </tr>\n",
       "    <tr>\n",
       "      <th>month_x_month_x_month_x_month</th>\n",
       "      <td>6.070748e+18</td>\n",
       "    </tr>\n",
       "    <tr>\n",
       "      <th>month_x_month_x_month_x_words_per_item</th>\n",
       "      <td>2.939853e+16</td>\n",
       "    </tr>\n",
       "    <tr>\n",
       "      <th>month_x_month_x_words_per_item_x_words_per_item</th>\n",
       "      <td>5.304296e+11</td>\n",
       "    </tr>\n",
       "    <tr>\n",
       "      <th>month_x_words_per_item_x_words_per_item_x_words_per_item</th>\n",
       "      <td>9.570396e+06</td>\n",
       "    </tr>\n",
       "    <tr>\n",
       "      <th>words_per_item_x_words_per_item_x_words_per_item_x_words_per_item</th>\n",
       "      <td>1.726760e+02</td>\n",
       "    </tr>\n",
       "  </tbody>\n",
       "</table>\n",
       "<p>69 rows × 1 columns</p>\n",
       "</div>"
      ],
      "text/plain": [
       "Invoice                                                   489434\n",
       "log_n_codes                                         2.079442e+00\n",
       "hour                                                7.000000e+00\n",
       "month                                               2.009120e+05\n",
       "words_per_item                                      3.625000e+00\n",
       "log_n_codes_x_log_n_codes                           4.324077e+00\n",
       "...                                                          ...\n",
       "month_x_month_x_month_x_month                       6.070748e+18\n",
       "month_x_month_x_month_x_words_per_item              2.939853e+16\n",
       "month_x_month_x_words_per_item_x_words_per_item     5.304296e+11\n",
       "month_x_words_per_item_x_words_per_item_x_words...  9.570396e+06\n",
       "words_per_item_x_words_per_item_x_words_per_ite...  1.726760e+02\n",
       "\n",
       "[69 rows x 1 columns]"
      ]
     },
     "execution_count": 18,
     "metadata": {},
     "output_type": "execute_result"
    }
   ],
   "source": [
    "polynomial_X.head(1).T"
   ]
  },
  {
   "cell_type": "code",
   "execution_count": 19,
   "metadata": {
    "slideshow": {
     "slide_type": "fragment"
    }
   },
   "outputs": [
    {
     "data": {
      "text/plain": [
       "Invoice\n",
       "489434    1.113165\n",
       "Name: log_item_spend, dtype: float64"
      ]
     },
     "execution_count": 19,
     "metadata": {},
     "output_type": "execute_result"
    }
   ],
   "source": [
    "y.head(1)"
   ]
  },
  {
   "cell_type": "code",
   "execution_count": 20,
   "metadata": {
    "slideshow": {
     "slide_type": "subslide"
    }
   },
   "outputs": [
    {
     "name": "stderr",
     "output_type": "stream",
     "text": [
      "2021-05-04 15:30:47,550 INFO:Study 1/50: 20165 train rows;  412 test rows\n"
     ]
    },
    {
     "data": {
      "image/png": "[encoded data removed]",
      "text/plain": [
       "<Figure size 864x288 with 1 Axes>"
      ]
     },
     "metadata": {
      "needs_background": "light"
     },
     "output_type": "display_data"
    }
   ],
   "source": [
    "scores = sbs_sklearn.train_n_test(polynomial_X, y, n_folds, concise=True, metric=metrics.mean_absolute_error)   \n",
    "# NB the default value for concise=True, so I'll drop mention of it after now\n",
    "sbs_sklearn.plot_kfold_scores(scores)"
   ]
  },
  {
   "cell_type": "markdown",
   "metadata": {},
   "source": [
    "This seems to be helping - MSE is best yet, well below 0.4\n",
    "\n",
    "#### However, the added flexibility comes with a sting ..."
   ]
  },
  {
   "cell_type": "markdown",
   "metadata": {
    "slideshow": {
     "slide_type": "slide"
    }
   },
   "source": [
    "### The 'jaggedness' of a small dataset is instilled into the fit, causing trouble in test data:"
   ]
  },
  {
   "cell_type": "code",
   "execution_count": 22,
   "metadata": {
    "slideshow": {
     "slide_type": "fragment"
    }
   },
   "outputs": [
    {
     "name": "stderr",
     "output_type": "stream",
     "text": [
      "2021-05-04 15:35:56,326 INFO:Study 1/50: 412 train rows;  20165 test rows\n"
     ]
    },
    {
     "data": {
      "image/png": "[encoded data removed]",
      "text/plain": [
       "<Figure size 864x288 with 1 Axes>"
      ]
     },
     "metadata": {
      "needs_background": "light"
     },
     "output_type": "display_data"
    }
   ],
   "source": [
    "scores = sbs_sklearn.train_n_test(polynomial_X, y, n_folds, train_on_minority=True, metric=metrics.mean_absolute_error)  # << we're making this train on a minority ...\n",
    "sbs_sklearn.plot_kfold_scores(scores)"
   ]
  },
  {
   "cell_type": "markdown",
   "metadata": {},
   "source": [
    "#### Particularly problematic when there are many regressors, i.e. when $x_i$ has a high dimension\n",
    "\n",
    "*Introduction to Statistical Learning* 6.4"
   ]
  },
  {
   "cell_type": "markdown",
   "metadata": {
    "slideshow": {
     "slide_type": "slide"
    }
   },
   "source": [
    "**Exercise**: \n",
    "\n",
    "* Explain the concept of 'mean absolute error'.\n",
    "\n",
    "* Create a duplicate of this notebook with a new name (e.g. copy-paste)\n",
    "\n",
    "* Opening the duplicate notebook with jupyter:\n",
    "    1. run all boxes until this point\n",
    "    2. next adjust the boxes above to replace MSE with MAE, and \n",
    "    3. finally, rerun and observe the results\n",
    "    \n",
    "* Do your findings affirm or contradict the message of these slides so far?"
   ]
  },
  {
   "cell_type": "markdown",
   "metadata": {
    "slideshow": {
     "slide_type": "slide"
    }
   },
   "source": [
    "## Overfitting"
   ]
  },
  {
   "cell_type": "markdown",
   "metadata": {},
   "source": [
    "The model had better, at least, perform on **test**, or **hold-out** data\n",
    "\n",
    "Or how could we trust it for future use?\n",
    "\n",
    "* tight fit on training data but failure on test data\n",
    "* -> **overfitting**, or - to put it another way -\n",
    "* poor **bias/variance tradeoff** (*Introduction to Statistical Learning* 2.2.2)"
   ]
  },
  {
   "cell_type": "markdown",
   "metadata": {
    "slideshow": {
     "slide_type": "fragment"
    }
   },
   "source": [
    "We fit our model to the specific nature ('jaggedness') of the data which we happen to have at hand\n",
    "\n",
    "Our modelling **fails to generalise** to new cases. It just 'encodes' the training data at hand."
   ]
  },
  {
   "cell_type": "markdown",
   "metadata": {
    "slideshow": {
     "slide_type": "fragment"
    }
   },
   "source": [
    "There exists a collection of remedies, falling under the term **Regularization** [-> Wikipedia](https://en.wikipedia.org/wiki/Regularization_(mathematics))"
   ]
  },
  {
   "cell_type": "markdown",
   "metadata": {
    "slideshow": {
     "slide_type": "slide"
    }
   },
   "source": [
    "## Regularization\n",
    "\n",
    "*Introduction to Statistical Learning* 6.2"
   ]
  },
  {
   "cell_type": "markdown",
   "metadata": {},
   "source": [
    "**Background** : when we *fit* a model, we optimize an objective\n",
    "* recall, MLEs, $\\hat\\beta$, of $\\beta$\n",
    "    * ('hat' notation of Econometrics)"
   ]
  },
  {
   "cell_type": "markdown",
   "metadata": {
    "slideshow": {
     "slide_type": "subslide"
    }
   },
   "source": [
    "In the case of linear regression, we adjust the vector $\\hat\\beta$ until we have optimized the objective:\n",
    "\\begin{equation}\n",
    "\\sum_{i=0}^N \\left(y_i - x_i'\\hat\\beta\\right)^2\n",
    "\\end{equation}\n",
    "Perhaps we can solve this analytically\n",
    "\n",
    "* but perhaps (recall ARCH(1) model) we *have* to use numerical minimization"
   ]
  },
  {
   "cell_type": "markdown",
   "metadata": {
    "slideshow": {
     "slide_type": "fragment"
    }
   },
   "source": [
    "Regularization is the practice of \n",
    "  * adjusting this objective, or,\n",
    "  * constraining our ability to minimize numerically, or\n",
    "  \n",
    "  * ...\n",
    "     *  -> in the direction of *simplicity*"
   ]
  },
  {
   "cell_type": "markdown",
   "metadata": {
    "slideshow": {
     "slide_type": "subslide"
    }
   },
   "source": [
    "#### The central proposal in regularization, is to adjust this optimization to **penalize complexity**:\n",
    "\n",
    "for example, actually adjust the vector $\\hat\\beta$ until we have minimized:\n",
    "\n",
    "\\begin{equation}\n",
    "\\sum_{i=0}^N \\left(y_i - x_i'\\hat\\beta\\right)^2  +  \\hat\\beta'W\\hat\\beta\n",
    "\\end{equation}"
   ]
  },
  {
   "cell_type": "markdown",
   "metadata": {
    "slideshow": {
     "slide_type": "fragment"
    }
   },
   "source": [
    "If $W >> 0 $, we're going to *tilt* our optimum in the direction of simplicity\n",
    "\n",
    "* because unimportant elements of $\\hat\\beta$ are going to be driven towards zero \n",
    "\n",
    "-> So, fewer parameters are in play\n",
    "\n",
    "<-> [Occam's Razor](https://en.wikipedia.org/wiki/Occam%27s_razor)"
   ]
  },
  {
   "cell_type": "markdown",
   "metadata": {
    "slideshow": {
     "slide_type": "slide"
    }
   },
   "source": [
    "**Exercise** :\n",
    "1. is the weights $W$ a matrix, a vector, or a scalar? \n",
    "\n",
    "1. is it constant or random?\n",
    "\n",
    "1. consider what $W >> 0$ could/should mean mathematically. \n",
    "\n",
    "1. should $W$ generally just be diagonal?\n",
    "\n",
    "1. can you think of any alternatives to this quadratic function of $\\beta$ (i.e. to $\\beta'W\\beta$)?"
   ]
  },
  {
   "cell_type": "markdown",
   "metadata": {
    "slideshow": {
     "slide_type": "slide"
    }
   },
   "source": [
    "#### Ridge regression:\n",
    "\n",
    "[(web search)](https://duckduckgo.com/?t=ffsb&q=ridge+regression&ia=web)\n",
    "\n",
    "Instead of OLS objective, we adjust the vector $\\hat\\beta$ to minimize:\n",
    "\n",
    "\\begin{equation}\n",
    "\\sum_{i=0}^N \\left(y_i - x_i'\\hat\\beta\\right)^2  +  \\frac{1}{2}\\alpha\\hat\\beta'\\hat\\beta\n",
    "\\end{equation}"
   ]
  },
  {
   "cell_type": "markdown",
   "metadata": {
    "slideshow": {
     "slide_type": "fragment"
    }
   },
   "source": [
    "We have *parameters*, here $\\beta$, but we also have *tuning parameters*, here $\\alpha$"
   ]
  },
  {
   "cell_type": "markdown",
   "metadata": {
    "slideshow": {
     "slide_type": "fragment"
    }
   },
   "source": [
    "Because it is a quadratic, we say that the penalty, $\\frac{1}{2}\\alpha\\hat\\beta'\\hat\\beta$, is **L2**"
   ]
  },
  {
   "cell_type": "markdown",
   "metadata": {
    "slideshow": {
     "slide_type": "subslide"
    }
   },
   "source": [
    "#### Lets have in mind five alternatives to the **L2** penalty above:\n",
    "\n",
    "A ([AIC](https://en.wikipedia.org/wiki/Akaike_information_criterion#Definition)):\n",
    "\n",
    "\n",
    "\\begin{equation}\n",
    "\\sum_{i=0}^N \\left(y_i - x_i'\\hat\\beta\\right)^2 . \\exp{\\left(\\frac{2(p + 1)}N\\right)}\n",
    "\\end{equation}\n",
    "\n",
    "So, this multiplies insteading of adding, and complexity is assessed by counting parameters (as $\\beta$ is of length $p$).\n",
    "\n",
    "* [Alternative to AIC](https://en.wikipedia.org/wiki/Akaike_information_criterion#Comparison_with_BIC), called BIC, replaces the $2(p+1)$ with $ln(N)(p+1)$."
   ]
  },
  {
   "cell_type": "markdown",
   "metadata": {
    "slideshow": {
     "slide_type": "subslide"
    }
   },
   "source": [
    "B (Lasso):\n",
    "\n",
    "\n",
    "\\begin{equation}\n",
    "\\sum_{i=0}^N \\left(y_i - x_i'\\hat\\beta\\right)^2  +  \\alpha\\sum_{j=0}^p|\\hat\\beta_j|\n",
    "\\end{equation}"
   ]
  },
  {
   "cell_type": "markdown",
   "metadata": {
    "slideshow": {
     "slide_type": "fragment"
    }
   },
   "source": [
    "Original formulation (makes no difference): minimize the usual objective, but subject to a constraint: \n",
    "\n",
    "\\begin{equation}\n",
    "\\sum_{i=0}^N \\left(y_i - x_i'\\hat\\beta\\right)^2  \\text{: subject to } \\sum_{j=0}^p|\\hat\\beta_j| \\leq k\n",
    "\\end{equation}\n",
    "\n",
    "(where $\\alpha$ and $k$ are [related] tuning parameters). This is an **L1** penalty."
   ]
  },
  {
   "cell_type": "markdown",
   "metadata": {
    "slideshow": {
     "slide_type": "fragment"
    }
   },
   "source": [
    "[Tibshirani (1996)](https://www.jstor.org/stable/2346178) - we should understand Figure 2\n",
    "\n",
    "(also note Fig 5 - we will be making something similar later)"
   ]
  },
  {
   "cell_type": "markdown",
   "metadata": {
    "slideshow": {
     "slide_type": "subslide"
    }
   },
   "source": [
    "C (Elastic Net):\n",
    "\n",
    "\n",
    "\\begin{equation}\n",
    "\\sum_{i=0}^N \\left(y_i - x_i'\\hat\\beta\\right)^2  + \\gamma \\alpha \\sum_{j=0}^p|\\hat\\beta_j| + (1-\\gamma)\\alpha \\frac 12\\hat\\beta'\\hat\\beta\n",
    "\\end{equation}\n",
    "\n",
    "Nothing especially new - just a mixture of $\\gamma$ times Lasso plus $(1-\\gamma)$ times Ridge Regression"
   ]
  },
  {
   "cell_type": "markdown",
   "metadata": {
    "slideshow": {
     "slide_type": "fragment"
    }
   },
   "source": [
    "**Discussion** : which are the *parameters*, which are the *tuning parameters*?"
   ]
  },
  {
   "cell_type": "markdown",
   "metadata": {
    "slideshow": {
     "slide_type": "subslide"
    }
   },
   "source": [
    "D (Early stopping):\n",
    "\n",
    "Adjust the vector $\\beta$ to minimize:\n",
    "\n",
    "\\begin{equation}\n",
    "\\sum_{i=0}^N \\left(y_i - x_i'\\beta\\right)^2  +  \\text{increasing penalty for computational time/effort during optimization}\n",
    "\\end{equation}\n",
    "\n",
    "(notation: often in discussing ML we'll be dropping the hat from things like $\\hat\\beta$) "
   ]
  },
  {
   "cell_type": "markdown",
   "metadata": {
    "slideshow": {
     "slide_type": "subslide"
    }
   },
   "source": [
    "E (A simple 'Dropout'):\n",
    "\n",
    "Adjust the vector $\\beta$ to minimize:\n",
    "\n",
    "\\begin{equation}\n",
    "\\sum_{i=0}^N \\left(y_i - x_i'\\beta\\right)^2  +  \\text{increasing penalty for computational time/effort during optimization}\n",
    "\\end{equation}\n",
    "\n",
    "**subject to** [regular, random 'forgetting'](https://duckduckgo.com/?t=ffsb&q=dropout+regularization&ia=web) of where we'd got to in our progress of numerical optimization\n",
    "\n",
    "(every $n$, say, iterations, temporarily reset a random element in the provisional vector $\\tilde\\beta$, to zero)"
   ]
  },
  {
   "cell_type": "markdown",
   "metadata": {
    "slideshow": {
     "slide_type": "fragment"
    }
   },
   "source": [
    "This example **judiciously adds randomness**. Later, we'll see ingenous variants on 'randomness-based' regularizing.\n",
    "\n",
    "... and there will be many others ..."
   ]
  },
  {
   "cell_type": "markdown",
   "metadata": {
    "slideshow": {
     "slide_type": "slide"
    }
   },
   "source": [
    "#### Rationales for regularization:"
   ]
  },
  {
   "cell_type": "markdown",
   "metadata": {
    "slideshow": {
     "slide_type": "fragment"
    }
   },
   "source": [
    "- **Theoretical** : We have a prior on the *parameters*. The prior is a distribution. It itself has some parameters: these are the *tuning parameters*. This means we should maximize $log(f_{\\beta}(\\ \\beta\\ |\\ \\  W, \\alpha)) + log(Lik(\\ \\beta\\ ;\\ y, X))$"
   ]
  },
  {
   "cell_type": "markdown",
   "metadata": {
    "slideshow": {
     "slide_type": "fragment"
    }
   },
   "source": [
    "- **Pragmatic** : Doing this improves fit in our particular *test* or *hold-out data*set (at hand)"
   ]
  },
  {
   "cell_type": "markdown",
   "metadata": {
    "slideshow": {
     "slide_type": "fragment"
    }
   },
   "source": [
    " - **Theoretical / pragmatic** : We believe in [Occam's Razor](https://en.wikipedia.org/wiki/Occam%27s_razor). Regularization drives our models in Occam's direction. "
   ]
  },
  {
   "cell_type": "markdown",
   "metadata": {
    "slideshow": {
     "slide_type": "fragment"
    }
   },
   "source": [
    " - **Pragmatic / theoretical** : In our experience, doing this generally tends to improve fit in our hold-out data"
   ]
  },
  {
   "cell_type": "markdown",
   "metadata": {
    "slideshow": {
     "slide_type": "fragment"
    }
   },
   "source": [
    " - **From biology?** : In our 'biological' experience, asexual reproduction is not a good embryology ... [Section 2 here](http://jmlr.org/papers/volume15/srivastava14a/srivastava14a.pdf)"
   ]
  },
  {
   "cell_type": "markdown",
   "metadata": {
    "slideshow": {
     "slide_type": "fragment"
    }
   },
   "source": [
    "**Exercise**: Discuss rationales for \"regularization\". Are there any rationales you would add to the list above? Is this a new concept, or one which has been present through history?"
   ]
  }
 ],
 "metadata": {
  "celltoolbar": "Slideshow",
  "kernelspec": {
   "display_name": "Python 3",
   "language": "python",
   "name": "python3"
  },
  "language_info": {
   "codemirror_mode": {
    "name": "ipython",
    "version": 3
   },
   "file_extension": ".py",
   "mimetype": "text/x-python",
   "name": "python",
   "nbconvert_exporter": "python",
   "pygments_lexer": "ipython3",
   "version": "3.8.5"
  }
 },
 "nbformat": 4,
 "nbformat_minor": 4
}
